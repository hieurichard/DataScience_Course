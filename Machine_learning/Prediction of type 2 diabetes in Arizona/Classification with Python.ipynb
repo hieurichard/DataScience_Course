{
 "cells": [
  {
   "cell_type": "markdown",
   "metadata": {
    "button": false,
    "id": "SzPE54CYM1kJ",
    "new_sheet": false,
    "run_control": {
     "read_only": false
    }
   },
   "source": [
    "<h1 align=center><font size = 10> Classification with Python</font></h1>"
   ]
  },
  {
   "cell_type": "markdown",
   "metadata": {
    "button": false,
    "id": "XPfbiVLfM1kK",
    "new_sheet": false,
    "run_control": {
     "read_only": false
    }
   },
   "source": [
    "In this notebook, we try to practice all the classification algorithms that we have learned in this course.\n",
    "\n",
    "We load a dataset using the Pandas library, and apply the following algorithms, and find the best one for this specific dataset by accuracy evaluation methods.\n",
    "\n",
    "Lets first load required libraries:"
   ]
  },
  {
   "cell_type": "code",
   "execution_count": 1,
   "metadata": {
    "button": false,
    "executionInfo": {
     "elapsed": 675,
     "status": "ok",
     "timestamp": 1641733800239,
     "user": {
      "displayName": "Nguy?n V?n Chi?n [Mentor]",
      "photoUrl": "https://lh3.googleusercontent.com/a/default-user=s64",
      "userId": "03888353383276620743"
     },
     "user_tz": -420
    },
    "id": "vcBmcLcqM1kL",
    "new_sheet": false,
    "run_control": {
     "read_only": false
    }
   },
   "outputs": [],
   "source": [
    "import matplotlib.pyplot as plt\n",
    "from matplotlib.ticker import NullFormatter\n",
    "import pandas as pd\n",
    "import numpy as np\n",
    "import matplotlib.ticker as ticker\n",
    "from sklearn import preprocessing\n",
    "import seaborn as sns\n",
    "%matplotlib inline\n",
    "%matplotlib inline\n",
    "from sklearn.preprocessing import StandardScaler\n",
    "from sklearn.model_selection import train_test_split\n",
    "from sklearn.metrics import accuracy_score, f1_score\n",
    "from sklearn.neighbors import KNeighborsClassifier\n",
    "from sklearn.model_selection import GridSearchCV\n",
    "from sklearn import tree\n",
    "from sklearn.tree import DecisionTreeClassifier\n",
    "from sklearn.svm import SVC\n",
    "from sklearn.linear_model import LogisticRegression\n",
    "from sklearn.ensemble import VotingClassifier"
   ]
  },
  {
   "cell_type": "markdown",
   "metadata": {
    "id": "PKehb7okM1kN"
   },
   "source": [
    "# Mandatory part (85%  of the total score)"
   ]
  },
  {
   "cell_type": "markdown",
   "metadata": {
    "id": "1OXuDMKku37m"
   },
   "source": []
  },
  {
   "cell_type": "markdown",
   "metadata": {
    "button": false,
    "id": "ZAL75IefM1kO",
    "new_sheet": false,
    "run_control": {
     "read_only": false
    }
   },
   "source": [
    "## About dataset"
   ]
  },
  {
   "cell_type": "markdown",
   "metadata": {
    "button": false,
    "id": "yrPdRO--M1kO",
    "new_sheet": false,
    "run_control": {
     "read_only": false
    }
   },
   "source": [
    "The Pima is a group of Native Americans living in Arizona. A genetic predisposition allowed this group to survive normally to a diet poor of carbohydrates for years. In recent years, a sudden shift from traditional agricultural crops to processed foods, together with a decline in physical activity, has made them develop the highest prevalence of type 2 diabetes and for this reason, they have been subject of many studies.\n",
    "\n",
    "The dataset includes data from 768 women with 8 characteristics, in particular:\n",
    "\n",
    "- Number of times pregnant\n",
    "- Plasma glucose concentration a 2 hours in an oral glucose tolerance test\n",
    "- Diastolic blood pressure (mm Hg)\n",
    "- Triceps skinfold thickness (mm)\n",
    "- 2-Hour serum insulin (mu U/ml)\n",
    "- Body mass index (weight in kg/(height in m)^2)\n",
    "- Diabetes pedigree function\n",
    "- Age (years)\n",
    "- The last column of the dataset indicates if the person has been diagnosed with diabetes (1) or not (0)"
   ]
  },
  {
   "cell_type": "markdown",
   "metadata": {
    "id": "dzJFrqwyM1kP"
   },
   "source": [
    "## The problem:"
   ]
  },
  {
   "cell_type": "markdown",
   "metadata": {
    "id": "WFl47FBcM1kQ"
   },
   "source": [
    "The type of dataset and problem is a classic supervised binary classification. Given a number of elements with certain characteristics (features), we want to build a machine learning model to identify people affected by type 2 diabetes.\n",
    "\n",
    "To solve the problem we will have to analyze the data, do any required transformation and nomarlization, apply a machine learning algorithm, train a model, check the performance of the trained model and iterate with other algorithms until we find the most performant for our type of dataset."
   ]
  },
  {
   "cell_type": "markdown",
   "metadata": {
    "button": false,
    "id": "Diy5tSZ7M1kQ",
    "new_sheet": false,
    "run_control": {
     "read_only": false
    }
   },
   "source": [
    "## Load Data From CSV File  "
   ]
  },
  {
   "cell_type": "markdown",
   "metadata": {
    "id": "qdIctwmZM1kR"
   },
   "source": [
    "### 1. Load the dataset from the 'pima-indians-diabetes.csv' file.\n",
    "\n",
    "Because the CSV doesn't contain any header, we add column names using the description from the original dataset website:\n",
    "\n",
    "dataset.columns = [\"NumTimesPrg\", \"PlGlcConc\", \"BloodP\", \"SkinThick\", \"TwoHourSerIns\", \"BMI\", \"DiPedFunc\", \"Age\", \"HasDiabetes\"]"
   ]
  },
  {
   "cell_type": "code",
   "execution_count": 2,
   "metadata": {
    "button": false,
    "executionInfo": {
     "elapsed": 6,
     "status": "ok",
     "timestamp": 1641733800240,
     "user": {
      "displayName": "Nguy?n V?n Chi?n [Mentor]",
      "photoUrl": "https://lh3.googleusercontent.com/a/default-user=s64",
      "userId": "03888353383276620743"
     },
     "user_tz": -420
    },
    "id": "K-TmhZ8vM1kS",
    "new_sheet": false,
    "run_control": {
     "read_only": false
    }
   },
   "outputs": [
    {
     "name": "stdout",
     "output_type": "stream",
     "text": [
      "Tải thành công bộ dữ liệu với các cột cần thiết.\n"
     ]
    }
   ],
   "source": [
    "#TO DO:\n",
    "columns = [\"NumTimesPrg\", \"PlGlcConc\", \"BloodP\", \"SkinThick\", \"TwoHourSerIns\", \"BMI\", \"DiPedFunc\", \"Age\", \"HasDiabetes\"]\n",
    "df = pd.read_csv('pima-indians-diabetes.csv',names = columns)\n",
    "print('Tải thành công bộ dữ liệu với các cột cần thiết.')"
   ]
  },
  {
   "cell_type": "code",
   "execution_count": 4,
   "metadata": {},
   "outputs": [
    {
     "data": {
      "text/html": [
       "<div>\n",
       "<style scoped>\n",
       "    .dataframe tbody tr th:only-of-type {\n",
       "        vertical-align: middle;\n",
       "    }\n",
       "\n",
       "    .dataframe tbody tr th {\n",
       "        vertical-align: top;\n",
       "    }\n",
       "\n",
       "    .dataframe thead th {\n",
       "        text-align: right;\n",
       "    }\n",
       "</style>\n",
       "<table border=\"1\" class=\"dataframe\">\n",
       "  <thead>\n",
       "    <tr style=\"text-align: right;\">\n",
       "      <th></th>\n",
       "      <th>NumTimesPrg</th>\n",
       "      <th>PlGlcConc</th>\n",
       "      <th>BloodP</th>\n",
       "      <th>SkinThick</th>\n",
       "      <th>TwoHourSerIns</th>\n",
       "      <th>BMI</th>\n",
       "      <th>DiPedFunc</th>\n",
       "      <th>Age</th>\n",
       "      <th>HasDiabetes</th>\n",
       "    </tr>\n",
       "  </thead>\n",
       "  <tbody>\n",
       "    <tr>\n",
       "      <th>count</th>\n",
       "      <td>768.000000</td>\n",
       "      <td>768.000000</td>\n",
       "      <td>768.000000</td>\n",
       "      <td>768.000000</td>\n",
       "      <td>768.000000</td>\n",
       "      <td>768.000000</td>\n",
       "      <td>768.000000</td>\n",
       "      <td>768.000000</td>\n",
       "      <td>768.000000</td>\n",
       "    </tr>\n",
       "    <tr>\n",
       "      <th>mean</th>\n",
       "      <td>3.845052</td>\n",
       "      <td>120.894531</td>\n",
       "      <td>69.105469</td>\n",
       "      <td>20.536458</td>\n",
       "      <td>79.799479</td>\n",
       "      <td>31.992578</td>\n",
       "      <td>0.471876</td>\n",
       "      <td>33.240885</td>\n",
       "      <td>0.348958</td>\n",
       "    </tr>\n",
       "    <tr>\n",
       "      <th>std</th>\n",
       "      <td>3.369578</td>\n",
       "      <td>31.972618</td>\n",
       "      <td>19.355807</td>\n",
       "      <td>15.952218</td>\n",
       "      <td>115.244002</td>\n",
       "      <td>7.884160</td>\n",
       "      <td>0.331329</td>\n",
       "      <td>11.760232</td>\n",
       "      <td>0.476951</td>\n",
       "    </tr>\n",
       "    <tr>\n",
       "      <th>min</th>\n",
       "      <td>0.000000</td>\n",
       "      <td>0.000000</td>\n",
       "      <td>0.000000</td>\n",
       "      <td>0.000000</td>\n",
       "      <td>0.000000</td>\n",
       "      <td>0.000000</td>\n",
       "      <td>0.078000</td>\n",
       "      <td>21.000000</td>\n",
       "      <td>0.000000</td>\n",
       "    </tr>\n",
       "    <tr>\n",
       "      <th>25%</th>\n",
       "      <td>1.000000</td>\n",
       "      <td>99.000000</td>\n",
       "      <td>62.000000</td>\n",
       "      <td>0.000000</td>\n",
       "      <td>0.000000</td>\n",
       "      <td>27.300000</td>\n",
       "      <td>0.243750</td>\n",
       "      <td>24.000000</td>\n",
       "      <td>0.000000</td>\n",
       "    </tr>\n",
       "    <tr>\n",
       "      <th>50%</th>\n",
       "      <td>3.000000</td>\n",
       "      <td>117.000000</td>\n",
       "      <td>72.000000</td>\n",
       "      <td>23.000000</td>\n",
       "      <td>30.500000</td>\n",
       "      <td>32.000000</td>\n",
       "      <td>0.372500</td>\n",
       "      <td>29.000000</td>\n",
       "      <td>0.000000</td>\n",
       "    </tr>\n",
       "    <tr>\n",
       "      <th>75%</th>\n",
       "      <td>6.000000</td>\n",
       "      <td>140.250000</td>\n",
       "      <td>80.000000</td>\n",
       "      <td>32.000000</td>\n",
       "      <td>127.250000</td>\n",
       "      <td>36.600000</td>\n",
       "      <td>0.626250</td>\n",
       "      <td>41.000000</td>\n",
       "      <td>1.000000</td>\n",
       "    </tr>\n",
       "    <tr>\n",
       "      <th>max</th>\n",
       "      <td>17.000000</td>\n",
       "      <td>199.000000</td>\n",
       "      <td>122.000000</td>\n",
       "      <td>99.000000</td>\n",
       "      <td>846.000000</td>\n",
       "      <td>67.100000</td>\n",
       "      <td>2.420000</td>\n",
       "      <td>81.000000</td>\n",
       "      <td>1.000000</td>\n",
       "    </tr>\n",
       "  </tbody>\n",
       "</table>\n",
       "</div>"
      ],
      "text/plain": [
       "       NumTimesPrg   PlGlcConc      BloodP   SkinThick  TwoHourSerIns  \\\n",
       "count   768.000000  768.000000  768.000000  768.000000     768.000000   \n",
       "mean      3.845052  120.894531   69.105469   20.536458      79.799479   \n",
       "std       3.369578   31.972618   19.355807   15.952218     115.244002   \n",
       "min       0.000000    0.000000    0.000000    0.000000       0.000000   \n",
       "25%       1.000000   99.000000   62.000000    0.000000       0.000000   \n",
       "50%       3.000000  117.000000   72.000000   23.000000      30.500000   \n",
       "75%       6.000000  140.250000   80.000000   32.000000     127.250000   \n",
       "max      17.000000  199.000000  122.000000   99.000000     846.000000   \n",
       "\n",
       "              BMI   DiPedFunc         Age  HasDiabetes  \n",
       "count  768.000000  768.000000  768.000000   768.000000  \n",
       "mean    31.992578    0.471876   33.240885     0.348958  \n",
       "std      7.884160    0.331329   11.760232     0.476951  \n",
       "min      0.000000    0.078000   21.000000     0.000000  \n",
       "25%     27.300000    0.243750   24.000000     0.000000  \n",
       "50%     32.000000    0.372500   29.000000     0.000000  \n",
       "75%     36.600000    0.626250   41.000000     1.000000  \n",
       "max     67.100000    2.420000   81.000000     1.000000  "
      ]
     },
     "execution_count": 4,
     "metadata": {},
     "output_type": "execute_result"
    }
   ],
   "source": [
    "df.describe()"
   ]
  },
  {
   "cell_type": "markdown",
   "metadata": {
    "button": false,
    "id": "AmBhwo0DM1kU",
    "new_sheet": false,
    "run_control": {
     "read_only": false
    }
   },
   "source": [
    "## Inspect the Dataset"
   ]
  },
  {
   "cell_type": "markdown",
   "metadata": {
    "id": "_HlgbaIQM1kU"
   },
   "source": [
    "### 2. Print out the shape of the dataset: we have 768 rows and 9 columns. Then, print out the head of the dataset to better understand the data format.\n",
    "\n",
    "The first 8 columns are features while the last one is the supervised label (1 = has diabetes, 0 = no diabetes)"
   ]
  },
  {
   "cell_type": "code",
   "execution_count": 3,
   "metadata": {
    "button": false,
    "executionInfo": {
     "elapsed": 5,
     "status": "ok",
     "timestamp": 1641733800240,
     "user": {
      "displayName": "Nguy?n V?n Chi?n [Mentor]",
      "photoUrl": "https://lh3.googleusercontent.com/a/default-user=s64",
      "userId": "03888353383276620743"
     },
     "user_tz": -420
    },
    "id": "bpyxtYzcM1kV",
    "new_sheet": false,
    "run_control": {
     "read_only": false
    }
   },
   "outputs": [],
   "source": [
    "#TO DO:\n",
    "# Number of times pregnant\n",
    "# Plasma glucose concentration a 2 hours in an oral glucose tolerance test\n",
    "# Diastolic blood pressure (mm Hg)\n",
    "# Triceps skinfold thickness (mm)\n",
    "# 2-Hour serum insulin (mu U/ml)\n",
    "# Body mass index (weight in kg/(height in m)^2)\n",
    "# Diabetes pedigree function\n",
    "# Age (years)"
   ]
  },
  {
   "cell_type": "code",
   "execution_count": 4,
   "metadata": {},
   "outputs": [
    {
     "name": "stdout",
     "output_type": "stream",
     "text": [
      "Shape của tập dữ liệu là (768, 9)\n"
     ]
    }
   ],
   "source": [
    "# In ra shape của tập dữ liệu\n",
    "print('Shape của tập dữ liệu là',df.shape)"
   ]
  },
  {
   "cell_type": "code",
   "execution_count": 5,
   "metadata": {},
   "outputs": [
    {
     "name": "stdout",
     "output_type": "stream",
     "text": [
      "   NumTimesPrg  PlGlcConc  BloodP  SkinThick  TwoHourSerIns   BMI  DiPedFunc  \\\n",
      "0            6        148      72         35              0  33.6      0.627   \n",
      "\n",
      "   Age  HasDiabetes  \n",
      "0   50            1  \n"
     ]
    }
   ],
   "source": [
    "#  in ra phần đầu của tập dữ liệu\n",
    "print(df.head(1))"
   ]
  },
  {
   "cell_type": "code",
   "execution_count": 6,
   "metadata": {},
   "outputs": [
    {
     "data": {
      "text/html": [
       "<div>\n",
       "<style scoped>\n",
       "    .dataframe tbody tr th:only-of-type {\n",
       "        vertical-align: middle;\n",
       "    }\n",
       "\n",
       "    .dataframe tbody tr th {\n",
       "        vertical-align: top;\n",
       "    }\n",
       "\n",
       "    .dataframe thead th {\n",
       "        text-align: right;\n",
       "    }\n",
       "</style>\n",
       "<table border=\"1\" class=\"dataframe\">\n",
       "  <thead>\n",
       "    <tr style=\"text-align: right;\">\n",
       "      <th></th>\n",
       "      <th>NumTimesPrg</th>\n",
       "      <th>PlGlcConc</th>\n",
       "      <th>BloodP</th>\n",
       "      <th>SkinThick</th>\n",
       "      <th>TwoHourSerIns</th>\n",
       "      <th>BMI</th>\n",
       "      <th>DiPedFunc</th>\n",
       "      <th>Age</th>\n",
       "      <th>HasDiabetes</th>\n",
       "    </tr>\n",
       "  </thead>\n",
       "  <tbody>\n",
       "    <tr>\n",
       "      <th>0</th>\n",
       "      <td>6</td>\n",
       "      <td>148</td>\n",
       "      <td>72</td>\n",
       "      <td>35</td>\n",
       "      <td>0</td>\n",
       "      <td>33.6</td>\n",
       "      <td>0.627</td>\n",
       "      <td>50</td>\n",
       "      <td>1</td>\n",
       "    </tr>\n",
       "    <tr>\n",
       "      <th>1</th>\n",
       "      <td>1</td>\n",
       "      <td>85</td>\n",
       "      <td>66</td>\n",
       "      <td>29</td>\n",
       "      <td>0</td>\n",
       "      <td>26.6</td>\n",
       "      <td>0.351</td>\n",
       "      <td>31</td>\n",
       "      <td>0</td>\n",
       "    </tr>\n",
       "    <tr>\n",
       "      <th>2</th>\n",
       "      <td>8</td>\n",
       "      <td>183</td>\n",
       "      <td>64</td>\n",
       "      <td>0</td>\n",
       "      <td>0</td>\n",
       "      <td>23.3</td>\n",
       "      <td>0.672</td>\n",
       "      <td>32</td>\n",
       "      <td>1</td>\n",
       "    </tr>\n",
       "    <tr>\n",
       "      <th>3</th>\n",
       "      <td>1</td>\n",
       "      <td>89</td>\n",
       "      <td>66</td>\n",
       "      <td>23</td>\n",
       "      <td>94</td>\n",
       "      <td>28.1</td>\n",
       "      <td>0.167</td>\n",
       "      <td>21</td>\n",
       "      <td>0</td>\n",
       "    </tr>\n",
       "    <tr>\n",
       "      <th>4</th>\n",
       "      <td>0</td>\n",
       "      <td>137</td>\n",
       "      <td>40</td>\n",
       "      <td>35</td>\n",
       "      <td>168</td>\n",
       "      <td>43.1</td>\n",
       "      <td>2.288</td>\n",
       "      <td>33</td>\n",
       "      <td>1</td>\n",
       "    </tr>\n",
       "  </tbody>\n",
       "</table>\n",
       "</div>"
      ],
      "text/plain": [
       "   NumTimesPrg  PlGlcConc  BloodP  SkinThick  TwoHourSerIns   BMI  DiPedFunc  \\\n",
       "0            6        148      72         35              0  33.6      0.627   \n",
       "1            1         85      66         29              0  26.6      0.351   \n",
       "2            8        183      64          0              0  23.3      0.672   \n",
       "3            1         89      66         23             94  28.1      0.167   \n",
       "4            0        137      40         35            168  43.1      2.288   \n",
       "\n",
       "   Age  HasDiabetes  \n",
       "0   50            1  \n",
       "1   31            0  \n",
       "2   32            1  \n",
       "3   21            0  \n",
       "4   33            1  "
      ]
     },
     "execution_count": 6,
     "metadata": {},
     "output_type": "execute_result"
    }
   ],
   "source": [
    "df.head()"
   ]
  },
  {
   "cell_type": "markdown",
   "metadata": {
    "button": false,
    "id": "a02T2r1XM1kY",
    "new_sheet": false,
    "run_control": {
     "read_only": false
    }
   },
   "source": [
    "# Data visualization and pre-processing\n",
    "\n"
   ]
  },
  {
   "cell_type": "markdown",
   "metadata": {
    "button": false,
    "id": "WyisS4NVM1kZ",
    "new_sheet": false,
    "run_control": {
     "read_only": false
    }
   },
   "source": [
    "## Data correlation matrix\n",
    "### 3. Let's calculate the correlation matrix for our dataset.\n",
    "\n",
    "The correlation matrix is an important tool to understand the correlation between the different characteristics. The values range from -1 to 1 and the closer a value is to 1 the better correlation there is between two characteristics. "
   ]
  },
  {
   "cell_type": "code",
   "execution_count": 7,
   "metadata": {
    "button": false,
    "executionInfo": {
     "elapsed": 5,
     "status": "ok",
     "timestamp": 1641733800241,
     "user": {
      "displayName": "Nguy?n V?n Chi?n [Mentor]",
      "photoUrl": "https://lh3.googleusercontent.com/a/default-user=s64",
      "userId": "03888353383276620743"
     },
     "user_tz": -420
    },
    "id": "vymkxfN8M1kZ",
    "new_sheet": false,
    "run_control": {
     "read_only": false
    }
   },
   "outputs": [
    {
     "data": {
      "text/html": [
       "<div>\n",
       "<style scoped>\n",
       "    .dataframe tbody tr th:only-of-type {\n",
       "        vertical-align: middle;\n",
       "    }\n",
       "\n",
       "    .dataframe tbody tr th {\n",
       "        vertical-align: top;\n",
       "    }\n",
       "\n",
       "    .dataframe thead th {\n",
       "        text-align: right;\n",
       "    }\n",
       "</style>\n",
       "<table border=\"1\" class=\"dataframe\">\n",
       "  <thead>\n",
       "    <tr style=\"text-align: right;\">\n",
       "      <th></th>\n",
       "      <th>NumTimesPrg</th>\n",
       "      <th>PlGlcConc</th>\n",
       "      <th>BloodP</th>\n",
       "      <th>SkinThick</th>\n",
       "      <th>TwoHourSerIns</th>\n",
       "      <th>BMI</th>\n",
       "      <th>DiPedFunc</th>\n",
       "      <th>Age</th>\n",
       "      <th>HasDiabetes</th>\n",
       "    </tr>\n",
       "  </thead>\n",
       "  <tbody>\n",
       "    <tr>\n",
       "      <th>NumTimesPrg</th>\n",
       "      <td>1.000000</td>\n",
       "      <td>0.129459</td>\n",
       "      <td>0.141282</td>\n",
       "      <td>-0.081672</td>\n",
       "      <td>-0.073535</td>\n",
       "      <td>0.017683</td>\n",
       "      <td>-0.033523</td>\n",
       "      <td>0.544341</td>\n",
       "      <td>0.221898</td>\n",
       "    </tr>\n",
       "    <tr>\n",
       "      <th>PlGlcConc</th>\n",
       "      <td>0.129459</td>\n",
       "      <td>1.000000</td>\n",
       "      <td>0.152590</td>\n",
       "      <td>0.057328</td>\n",
       "      <td>0.331357</td>\n",
       "      <td>0.221071</td>\n",
       "      <td>0.137337</td>\n",
       "      <td>0.263514</td>\n",
       "      <td>0.466581</td>\n",
       "    </tr>\n",
       "    <tr>\n",
       "      <th>BloodP</th>\n",
       "      <td>0.141282</td>\n",
       "      <td>0.152590</td>\n",
       "      <td>1.000000</td>\n",
       "      <td>0.207371</td>\n",
       "      <td>0.088933</td>\n",
       "      <td>0.281805</td>\n",
       "      <td>0.041265</td>\n",
       "      <td>0.239528</td>\n",
       "      <td>0.065068</td>\n",
       "    </tr>\n",
       "    <tr>\n",
       "      <th>SkinThick</th>\n",
       "      <td>-0.081672</td>\n",
       "      <td>0.057328</td>\n",
       "      <td>0.207371</td>\n",
       "      <td>1.000000</td>\n",
       "      <td>0.436783</td>\n",
       "      <td>0.392573</td>\n",
       "      <td>0.183928</td>\n",
       "      <td>-0.113970</td>\n",
       "      <td>0.074752</td>\n",
       "    </tr>\n",
       "    <tr>\n",
       "      <th>TwoHourSerIns</th>\n",
       "      <td>-0.073535</td>\n",
       "      <td>0.331357</td>\n",
       "      <td>0.088933</td>\n",
       "      <td>0.436783</td>\n",
       "      <td>1.000000</td>\n",
       "      <td>0.197859</td>\n",
       "      <td>0.185071</td>\n",
       "      <td>-0.042163</td>\n",
       "      <td>0.130548</td>\n",
       "    </tr>\n",
       "    <tr>\n",
       "      <th>BMI</th>\n",
       "      <td>0.017683</td>\n",
       "      <td>0.221071</td>\n",
       "      <td>0.281805</td>\n",
       "      <td>0.392573</td>\n",
       "      <td>0.197859</td>\n",
       "      <td>1.000000</td>\n",
       "      <td>0.140647</td>\n",
       "      <td>0.036242</td>\n",
       "      <td>0.292695</td>\n",
       "    </tr>\n",
       "    <tr>\n",
       "      <th>DiPedFunc</th>\n",
       "      <td>-0.033523</td>\n",
       "      <td>0.137337</td>\n",
       "      <td>0.041265</td>\n",
       "      <td>0.183928</td>\n",
       "      <td>0.185071</td>\n",
       "      <td>0.140647</td>\n",
       "      <td>1.000000</td>\n",
       "      <td>0.033561</td>\n",
       "      <td>0.173844</td>\n",
       "    </tr>\n",
       "    <tr>\n",
       "      <th>Age</th>\n",
       "      <td>0.544341</td>\n",
       "      <td>0.263514</td>\n",
       "      <td>0.239528</td>\n",
       "      <td>-0.113970</td>\n",
       "      <td>-0.042163</td>\n",
       "      <td>0.036242</td>\n",
       "      <td>0.033561</td>\n",
       "      <td>1.000000</td>\n",
       "      <td>0.238356</td>\n",
       "    </tr>\n",
       "    <tr>\n",
       "      <th>HasDiabetes</th>\n",
       "      <td>0.221898</td>\n",
       "      <td>0.466581</td>\n",
       "      <td>0.065068</td>\n",
       "      <td>0.074752</td>\n",
       "      <td>0.130548</td>\n",
       "      <td>0.292695</td>\n",
       "      <td>0.173844</td>\n",
       "      <td>0.238356</td>\n",
       "      <td>1.000000</td>\n",
       "    </tr>\n",
       "  </tbody>\n",
       "</table>\n",
       "</div>"
      ],
      "text/plain": [
       "               NumTimesPrg  PlGlcConc    BloodP  SkinThick  TwoHourSerIns  \\\n",
       "NumTimesPrg       1.000000   0.129459  0.141282  -0.081672      -0.073535   \n",
       "PlGlcConc         0.129459   1.000000  0.152590   0.057328       0.331357   \n",
       "BloodP            0.141282   0.152590  1.000000   0.207371       0.088933   \n",
       "SkinThick        -0.081672   0.057328  0.207371   1.000000       0.436783   \n",
       "TwoHourSerIns    -0.073535   0.331357  0.088933   0.436783       1.000000   \n",
       "BMI               0.017683   0.221071  0.281805   0.392573       0.197859   \n",
       "DiPedFunc        -0.033523   0.137337  0.041265   0.183928       0.185071   \n",
       "Age               0.544341   0.263514  0.239528  -0.113970      -0.042163   \n",
       "HasDiabetes       0.221898   0.466581  0.065068   0.074752       0.130548   \n",
       "\n",
       "                    BMI  DiPedFunc       Age  HasDiabetes  \n",
       "NumTimesPrg    0.017683  -0.033523  0.544341     0.221898  \n",
       "PlGlcConc      0.221071   0.137337  0.263514     0.466581  \n",
       "BloodP         0.281805   0.041265  0.239528     0.065068  \n",
       "SkinThick      0.392573   0.183928 -0.113970     0.074752  \n",
       "TwoHourSerIns  0.197859   0.185071 -0.042163     0.130548  \n",
       "BMI            1.000000   0.140647  0.036242     0.292695  \n",
       "DiPedFunc      0.140647   1.000000  0.033561     0.173844  \n",
       "Age            0.036242   0.033561  1.000000     0.238356  \n",
       "HasDiabetes    0.292695   0.173844  0.238356     1.000000  "
      ]
     },
     "execution_count": 7,
     "metadata": {},
     "output_type": "execute_result"
    }
   ],
   "source": [
    "# Hãy tính toán ma trận tương quan (correlation matrix) cho tập dữ liệu.\n",
    "corr_df = df.corr()\n",
    "corr_df"
   ]
  },
  {
   "cell_type": "markdown",
   "metadata": {
    "id": "Q0YpKuUBM1kb"
   },
   "source": [
    "### 4. Render the corr matrix using the heatmap in seaborn."
   ]
  },
  {
   "cell_type": "code",
   "execution_count": 8,
   "metadata": {
    "executionInfo": {
     "elapsed": 5,
     "status": "ok",
     "timestamp": 1641733800241,
     "user": {
      "displayName": "Nguy?n V?n Chi?n [Mentor]",
      "photoUrl": "https://lh3.googleusercontent.com/a/default-user=s64",
      "userId": "03888353383276620743"
     },
     "user_tz": -420
    },
    "id": "ll0POqtIM1kc"
   },
   "outputs": [
    {
     "data": {
      "image/png": "[encoded data removed]",
      "text/plain": [
       "<Figure size 576x396 with 2 Axes>"
      ]
     },
     "metadata": {},
     "output_type": "display_data"
    }
   ],
   "source": [
    "# visual corr matrix sử dụng heatmap\n",
    "%matplotlib inline\n",
    "plt.style.use('seaborn')\n",
    "sns.heatmap(corr_df, annot = True, fmt = '.2f', cmap = 'viridis');"
   ]
  },
  {
   "cell_type": "code",
   "execution_count": 9,
   "metadata": {},
   "outputs": [
    {
     "data": {
      "image/png": "[encoded data removed]",
      "text/plain": [
       "<Figure size 576x396 with 2 Axes>"
      ]
     },
     "metadata": {},
     "output_type": "display_data"
    }
   ],
   "source": [
    "# bỏ qua phần trùng lặp\n",
    "mask = np.array(corr_df)\n",
    "mask[np.tril_indices_from(mask)] = False\n",
    "sns.heatmap(corr_df, annot = True, \n",
    "            fmt = '.2f', cmap = 'viridis', mask=mask);"
   ]
  },
  {
   "cell_type": "markdown",
   "metadata": {
    "id": "r7DgicVOM1ke"
   },
   "source": [
    "### 5. Print out the column which has the biggest corr number with 'HasDiabetes'."
   ]
  },
  {
   "cell_type": "code",
   "execution_count": 10,
   "metadata": {
    "executionInfo": {
     "elapsed": 12,
     "status": "ok",
     "timestamp": 1641733800692,
     "user": {
      "displayName": "Nguy?n V?n Chi?n [Mentor]",
      "photoUrl": "https://lh3.googleusercontent.com/a/default-user=s64",
      "userId": "03888353383276620743"
     },
     "user_tz": -420
    },
    "id": "DoZkwj3oM1ke"
   },
   "outputs": [
    {
     "data": {
      "text/plain": [
       "PlGlcConc    0.466581\n",
       "Name: HasDiabetes, dtype: float64"
      ]
     },
     "execution_count": 10,
     "metadata": {},
     "output_type": "execute_result"
    }
   ],
   "source": [
    "# In ra cột có số hiệu chỉnh lớn nhất với 'HasDiabetes'.\n",
    "corr_hasDiabet = corr_df[corr_df.index != 'HasDiabetes']['HasDiabetes']\n",
    "corr_hasDiabet.sort_values(ascending = False).head(1)"
   ]
  },
  {
   "cell_type": "markdown",
   "metadata": {},
   "source": [
    "ta thấy là cột PlGlcConc - Nồng độ glucose huyết tương sau 2 giờ trong xét nghiệm dung nạp glucose qua đường miệng là feature có sự tương quan mạnh nhất trong tất cả các feature để xác định một người có mắc bệnh tiểu đường hay không với hệ số tương quan là 0.466581"
   ]
  },
  {
   "cell_type": "markdown",
   "metadata": {
    "id": "gZ5Msu8UM1kg"
   },
   "source": [
    "## Visualize the Dataset\n",
    "Visualizing the data is an important step of the data analysis. With a graphical visualization of the data, we have a better understanding of the various features values distribution: for example, we can understand the average age of the people or the average BMI, etc...\n",
    "\n",
    "We could, of course, limit our inspection to the table visualization, but we could miss important things that may affect our model precision.\n",
    "### 6. Manipulate histogram to represent all data columns in the dataset."
   ]
  },
  {
   "cell_type": "code",
   "execution_count": 11,
   "metadata": {
    "executionInfo": {
     "elapsed": 11,
     "status": "ok",
     "timestamp": 1641733800692,
     "user": {
      "displayName": "Nguy?n V?n Chi?n [Mentor]",
      "photoUrl": "https://lh3.googleusercontent.com/a/default-user=s64",
      "userId": "03888353383276620743"
     },
     "user_tz": -420
    },
    "id": "JC3CILgxM1kh"
   },
   "outputs": [
    {
     "data": {
      "image/png": "[encoded data removed]",
      "text/plain": [
       "<Figure size 1440x1080 with 9 Axes>"
      ]
     },
     "metadata": {},
     "output_type": "display_data"
    }
   ],
   "source": [
    "# Thao tác biểu đồ tần suất để thể hiện tất cả các cột dữ liệu trong bộ dữ liệu.\n",
    "df.hist(bins = 50,figsize = (20,15));"
   ]
  },
  {
   "cell_type": "markdown",
   "metadata": {
    "button": false,
    "id": "VYSkabikM1kj",
    "new_sheet": false,
    "run_control": {
     "read_only": false
    }
   },
   "source": [
    "An important thing I notice in the dataset (and that wasn't obvious at the beginning) is the fact that some people have null (zero) values for some of the features: it's not quite possible to have 0 for BMI or the blood pressure.\n",
    "\n",
    "How can we deal with similar values? We will see it later during the data transformation phase."
   ]
  },
  {
   "cell_type": "markdown",
   "metadata": {
    "button": false,
    "id": "si5Fgks4M1kj",
    "new_sheet": false,
    "run_control": {
     "read_only": false
    }
   },
   "source": [
    "## Data cleaning and transformation"
   ]
  },
  {
   "cell_type": "markdown",
   "metadata": {
    "button": false,
    "id": "ZDAqJwOaM1kk",
    "new_sheet": false,
    "run_control": {
     "read_only": false
    }
   },
   "source": [
    "We have noticed from the previous analysis that some patients have missing data for some of the features. Machine learning algorithms don't work very well when the data are missing so we have to find a solution to \"clean\" the data we have.\n",
    "\n",
    "The easiest option could be to eliminate all those patients with null/zero values, but in this way, we would eliminate a lot of important data.\n",
    "\n",
    "Another option is to calculate the median value for a specific column and substitute that value everywhere (in the same column) we have zero or null. Let's see how to apply this second method.\n",
    "\n",
    "### 7. Interpolate missing values on ['BMI', 'BloodP', 'PlGlcConc', 'SkinThick',  'TwoHourSerIns'] using median values or any other way which is effective.\n",
    "\n",
    "We haven't transformed all the columns, because of some values which can make sense to be zero (like \"Number of times pregnant\")."
   ]
  },
  {
   "cell_type": "code",
   "execution_count": 3,
   "metadata": {
    "button": false,
    "executionInfo": {
     "elapsed": 11,
     "status": "ok",
     "timestamp": 1641733800692,
     "user": {
      "displayName": "Nguy?n V?n Chi?n [Mentor]",
      "photoUrl": "https://lh3.googleusercontent.com/a/default-user=s64",
      "userId": "03888353383276620743"
     },
     "user_tz": -420
    },
    "id": "ccZyY2RbM1kk",
    "new_sheet": false,
    "run_control": {
     "read_only": false
    }
   },
   "outputs": [],
   "source": [
    "# sử dụng các giá trị trung vị thay thế các giá trị 0 trong các trường ['BMI', 'BloodP', 'PlGlcConc', 'SkinThick', 'TwoHourSerIns']\n",
    "zero_list = ['BMI', 'BloodP', 'PlGlcConc', 'SkinThick', 'TwoHourSerIns']\n",
    "for i in zero_list:\n",
    "    df[i].replace(0,np.nan,inplace = True)\n",
    "    med = df[i].median(skipna = True)\n",
    "    df[i].replace(np.nan,med,inplace = True)"
   ]
  },
  {
   "cell_type": "code",
   "execution_count": 13,
   "metadata": {},
   "outputs": [
    {
     "data": {
      "text/plain": [
       "BMI              18.2\n",
       "BloodP           24.0\n",
       "PlGlcConc        44.0\n",
       "SkinThick         7.0\n",
       "TwoHourSerIns    14.0\n",
       "dtype: float64"
      ]
     },
     "execution_count": 13,
     "metadata": {},
     "output_type": "execute_result"
    }
   ],
   "source": [
    "df[zero_list].min()\n",
    "# các giá trị bằng 0 đã được loại bỏ ở các trường này"
   ]
  },
  {
   "cell_type": "markdown",
   "metadata": {
    "id": "-8h0P-vLM1kl"
   },
   "source": [
    "## Normalize Data "
   ]
  },
  {
   "cell_type": "markdown",
   "metadata": {
    "id": "GNxKYsijM1km"
   },
   "source": [
    "One of the most important data transformations we need to apply is the features scaling. Basically, most of the machine learning algorithms don't work very well if the features have a different set of values. In our case, for example, the Age ranges from 20 to 80 years old, while the number of times a patient has been pregnant ranges from 0 to 17. For this reason, we need to apply a proper transformation.\n",
    "\n",
    "### 8. Execute Data Standardization using data zero mean and unit variance (don't forget to remove ground truth column before scaling)."
   ]
  },
  {
   "cell_type": "code",
   "execution_count": 14,
   "metadata": {
    "executionInfo": {
     "elapsed": 10,
     "status": "ok",
     "timestamp": 1641733800692,
     "user": {
      "displayName": "Nguy?n V?n Chi?n [Mentor]",
      "photoUrl": "https://lh3.googleusercontent.com/a/default-user=s64",
      "userId": "03888353383276620743"
     },
     "user_tz": -420
    },
    "id": "S22D1f6QM1km"
   },
   "outputs": [],
   "source": [
    "# chuẩn hóa dữ liệu bằng cách sử dụng dữ liệu trung bình bằng 0 và phương sai đơn vị\n",
    "\n",
    "# Remove ground truth column before\n",
    "y = df['HasDiabetes']\n",
    "X = df.drop(columns = 'HasDiabetes')\n",
    "\n",
    "# chuẩn hóa\n",
    "ss = StandardScaler()\n",
    "X = ss.fit(X).transform(X)"
   ]
  },
  {
   "cell_type": "code",
   "execution_count": 15,
   "metadata": {},
   "outputs": [
    {
     "data": {
      "text/plain": [
       "array([[ 0.63994726,  0.86604475, -0.03198993,  0.67064253, -0.18154124,\n",
       "         0.16661938,  0.46849198,  1.4259954 ],\n",
       "       [-0.84488505, -1.20506583, -0.5283186 , -0.01230129, -0.18154124,\n",
       "        -0.85219976, -0.36506078, -0.19067191],\n",
       "       [ 1.23388019,  2.01666174, -0.69376149, -0.01230129, -0.18154124,\n",
       "        -1.33250021,  0.60439732, -0.10558415],\n",
       "       [-0.84488505, -1.07356674, -0.5283186 , -0.69524511, -0.54064177,\n",
       "        -0.63388137, -0.92076261, -1.04154944],\n",
       "       [-1.14185152,  0.50442227, -2.67907616,  0.67064253,  0.31656594,\n",
       "         1.5493025 ,  5.4849091 , -0.0204964 ]])"
      ]
     },
     "execution_count": 15,
     "metadata": {},
     "output_type": "execute_result"
    }
   ],
   "source": [
    "X[:5,:]"
   ]
  },
  {
   "cell_type": "code",
   "execution_count": 16,
   "metadata": {},
   "outputs": [
    {
     "data": {
      "text/plain": [
       "0    1\n",
       "1    0\n",
       "2    1\n",
       "3    0\n",
       "4    1\n",
       "Name: HasDiabetes, dtype: int64"
      ]
     },
     "execution_count": 16,
     "metadata": {},
     "output_type": "execute_result"
    }
   ],
   "source": [
    "y[:5]"
   ]
  },
  {
   "cell_type": "markdown",
   "metadata": {
    "button": false,
    "id": "oOHQu_2rM1ko",
    "new_sheet": false,
    "run_control": {
     "read_only": false
    }
   },
   "source": [
    "# Splitting the Dataset"
   ]
  },
  {
   "cell_type": "markdown",
   "metadata": {
    "id": "luDui2xtM1ko"
   },
   "source": [
    "Now that we have transformed the data, we need to split the dataset into two parts: a training dataset and a test dataset. Splitting the dataset is a very important step for supervised machine learning models. Basically, we are going to use the first part to train the model (ignoring the column with the pre-assigned label), then we use the trained model to make predictions on new data (which is the test dataset, not part of the training set) and compare the predicted value with the pre-assigned label.\n",
    "\n",
    "### 9. Split the dataset into 80/20 using the stratified technique and random_state=7."
   ]
  },
  {
   "cell_type": "code",
   "execution_count": 17,
   "metadata": {
    "executionInfo": {
     "elapsed": 11,
     "status": "ok",
     "timestamp": 1641733800693,
     "user": {
      "displayName": "Nguy?n V?n Chi?n [Mentor]",
      "photoUrl": "https://lh3.googleusercontent.com/a/default-user=s64",
      "userId": "03888353383276620743"
     },
     "user_tz": -420
    },
    "id": "Xfh4QK1oM1kp"
   },
   "outputs": [],
   "source": [
    "# Chia dữ liệu thành 80/20 bằng kỹ thuật phân tầng và Random_state = 7.\n",
    "X_train, X_test, y_train, y_test = train_test_split(X,y, test_size = 0.2,\n",
    "                                           random_state = 7,stratify=y)"
   ]
  },
  {
   "cell_type": "code",
   "execution_count": 18,
   "metadata": {},
   "outputs": [
    {
     "name": "stdout",
     "output_type": "stream",
     "text": [
      "shape của tập train là (614, 8) (614,)\n",
      "shape của tập test là (154, 8) (154,)\n"
     ]
    }
   ],
   "source": [
    "print('shape của tập train là',X_train.shape, y_train.shape)\n",
    "print('shape của tập test là',X_test.shape, y_test.shape)"
   ]
  },
  {
   "cell_type": "markdown",
   "metadata": {
    "id": "Yk3Y6qVtM1kq"
   },
   "source": [
    "# Additional Question: \n",
    "### Why should we perform data normalization and data splitting before the training step?\n",
    "Type your answer in the cell bellow as the markdown format."
   ]
  },
  {
   "cell_type": "markdown",
   "metadata": {
    "id": "2yXSkeUjM1kr"
   },
   "source": [
    "#### Ta phải thực hiện data normalization và data splitting trước khi tiến hành training dữ liệu vì:\n",
    "\n",
    "1. Đối với Normalization: Normalization thay đổi các giá trị của dữ liệu với mục đích chính để thu được 1 phân phối dữ liệu tốt hơn cho các thuật toán học máy từ đó có thể giúp mô hình huấn luyện nhanh và kết quả tốt\n",
    "\n",
    " Trước khi chúng ta normalized dữ liệu đầu vào, trọng số liên quan đến các features sẽ khác nhau, một số feature có trọng số sẽ lớn và một số trọng số lại nhỏ. Vì sự phân bố không đồng đều của các trọng số nên dẫn tới việc thuật toán sẽ bị dao động trong vùng tối ưu trước khi nó tìm đến vị trí cực tiểu toàn cục. Để tránh việc thuật toán học dành quá nhiều thời gian dao động khi tối ưu, ta normalize các features đầu vào về cùng tỉ lệ, phân phối. Từ đó thì dữ liệu đầu vào sẽ tỉ lệ và trọng số liên quan đến chúng cũng sẽ cùng tỉ lệ. Điều này giúp mô hình có thể học nhanh hơn.\n",
    "\n",
    "2. đối với data splitting: Trong machine learning chúng ta cần kiểm thử để dự đoán và đánh giá khả năng hoạt động hiệu quả của mô hình trên thực tế. Khi chúng ta tách tập dữ liệu test set độc lập với tập train set và chúng ta dùng chính tập test set này để đánh giá vầ ước lượng hiệu quả của mô hình. Vì thế chúng ta phải thực hiện data splitting trước khi training mô hình"
   ]
  },
  {
   "cell_type": "markdown",
   "metadata": {
    "id": "6PaVBEAwM1ks"
   },
   "source": [
    "### 10. Print out the proportion of positive/total women who have diabetes on the full dataset, training dataset, and testing dataset."
   ]
  },
  {
   "cell_type": "code",
   "execution_count": 19,
   "metadata": {
    "executionInfo": {
     "elapsed": 11,
     "status": "ok",
     "timestamp": 1641733800693,
     "user": {
      "displayName": "Nguy?n V?n Chi?n [Mentor]",
      "photoUrl": "https://lh3.googleusercontent.com/a/default-user=s64",
      "userId": "03888353383276620743"
     },
     "user_tz": -420
    },
    "id": "36nXnB7cM1ku"
   },
   "outputs": [
    {
     "name": "stdout",
     "output_type": "stream",
     "text": [
      "Tỷ lệ phụ nữ dương tính/tổng số trong tập dữ liệu đầy đủ 34.90 %\n"
     ]
    }
   ],
   "source": [
    "print('Tỷ lệ phụ nữ dương tính/tổng số trong tập dữ liệu đầy đủ %.2f %%'%(100*y.sum()/len(y)))"
   ]
  },
  {
   "cell_type": "code",
   "execution_count": 20,
   "metadata": {},
   "outputs": [
    {
     "name": "stdout",
     "output_type": "stream",
     "text": [
      "Tỷ lệ phụ nữ dương tính/tổng số trong tập dữ liệu huấn luyện 34.85 %\n"
     ]
    }
   ],
   "source": [
    "print('Tỷ lệ phụ nữ dương tính/tổng số trong tập dữ liệu huấn luyện %.2f %%'%(100*y_train.sum()/len(y_train)))"
   ]
  },
  {
   "cell_type": "code",
   "execution_count": 21,
   "metadata": {},
   "outputs": [
    {
     "name": "stdout",
     "output_type": "stream",
     "text": [
      "Tỷ lệ phụ nữ dương tính/tổng số trong tập dữ liệu thử nghiệm 35.06 %\n"
     ]
    }
   ],
   "source": [
    "print('Tỷ lệ phụ nữ dương tính/tổng số trong tập dữ liệu thử nghiệm %.2f %%'%(100*y_test.sum()/len(y_test)))"
   ]
  },
  {
   "cell_type": "markdown",
   "metadata": {
    "button": false,
    "id": "KHXGaCazM1k0",
    "new_sheet": false,
    "run_control": {
     "read_only": false
    }
   },
   "source": [
    "# Classification "
   ]
  },
  {
   "cell_type": "markdown",
   "metadata": {
    "button": false,
    "id": "Q-NwUyDVM1k0",
    "new_sheet": false,
    "run_control": {
     "read_only": false
    }
   },
   "source": [
    "Now, it is your turn, use the training set to build an accurate model. Then use the test set to report the accuracy of the model.\n",
    "\n",
    "You should use the following algorithms:\n",
    "- K Nearest Neighbor(KNN)\n",
    "- Decision Tree\n",
    "- Support Vector Machine\n",
    "- Logistic Regression\n",
    "- Soft voting\n",
    "- Hard voting\n",
    "\n",
    "\n",
    "\n",
    "**__ Notes:__**\n",
    "\n",
    "- You must try to **FINE TUNE AT LEAST 3 PARAMETERS** on each algorithm, except on soft voting and hard voting.\n",
    "- You can go above and change the pre-processing, feature selection, feature extraction, and so on, to make a better model.\n",
    "- You should use either scikit-learn, Scipy or Numpy libraries for developing the classification algorithms.\n",
    "- You should include the code of the algorithm in the following cells."
   ]
  },
  {
   "cell_type": "markdown",
   "metadata": {
    "id": "c8HKeDu9M1k1"
   },
   "source": [
    "# Import Evaluation Metrices"
   ]
  },
  {
   "cell_type": "code",
   "execution_count": 22,
   "metadata": {
    "executionInfo": {
     "elapsed": 9,
     "status": "aborted",
     "timestamp": 1641733800694,
     "user": {
      "displayName": "Nguy?n V?n Chi?n [Mentor]",
      "photoUrl": "https://lh3.googleusercontent.com/a/default-user=s64",
      "userId": "03888353383276620743"
     },
     "user_tz": -420
    },
    "id": "TBXdCSP-M1k3"
   },
   "outputs": [],
   "source": [
    "# a dictionary for keeping all scores of the classifiers\n",
    "f1_scores = {'train':{'KNN': 0, 'DT': 0, 'SVM': 0, 'LR': 0, 'EN_HARD': 0, 'EN_SOFT': 0},\n",
    "             'test':{'KNN': 0, 'DT': 0, 'SVM': 0, 'LR': 0, 'EN_HARD': 0, 'EN_SOFT': 0}}\n",
    "accuracy_scores = {'train':{'KNN': 0, 'DT': 0, 'SVM': 0, 'LR': 0, 'EN_HARD': 0, 'EN_SOFT': 0}, \n",
    "                  'test':{'KNN': 0, 'DT': 0, 'SVM': 0, 'LR': 0, 'EN_HARD': 0, 'EN_SOFT': 0}}\n"
   ]
  },
  {
   "cell_type": "markdown",
   "metadata": {
    "id": "ntwqYDm7M1k6"
   },
   "source": [
    "# K Nearest Neighbor(KNN)\n",
    "### 11. Finetune at least 3 parameters to get the KNN model with best accuracy. Then, print out the KNN model's parameters with the best accuracy(best estimator).\n",
    "Hint: Using GridSearchCV in sklearn.model_selection.\n",
    "\n",
    "**Warning:** You should not use the test data for finding the best parameters."
   ]
  },
  {
   "cell_type": "code",
   "execution_count": 23,
   "metadata": {
    "executionInfo": {
     "elapsed": 9,
     "status": "aborted",
     "timestamp": 1641733800694,
     "user": {
      "displayName": "Nguy?n V?n Chi?n [Mentor]",
      "photoUrl": "https://lh3.googleusercontent.com/a/default-user=s64",
      "userId": "03888353383276620743"
     },
     "user_tz": -420
    },
    "id": "Xw2vbHFKM1k9"
   },
   "outputs": [
    {
     "name": "stdout",
     "output_type": "stream",
     "text": [
      "0.7524990003998401\n",
      "{'n_neighbors': 11, 'p': 2, 'weights': 'distance'}\n"
     ]
    }
   ],
   "source": [
    "param_grid = {\n",
    "    'n_neighbors' : range(1,12),\n",
    "    'weights' : ['uniform','distance'],\n",
    "    'p':range(1,10)\n",
    "        }\n",
    "grid_knn = GridSearchCV(estimator=KNeighborsClassifier(),\n",
    "                   param_grid = param_grid)\n",
    "grid_knn.fit(X_train,y_train)\n",
    "\n",
    "# in ra tham số với sự chính xác tốt nhất\n",
    "print(grid_knn.best_score_)\n",
    "print(grid_knn.best_params_)"
   ]
  },
  {
   "cell_type": "markdown",
   "metadata": {
    "id": "QLvhv6JrM1lA"
   },
   "source": [
    "# Additional Question: \n",
    "### Interpret and explain the parameters you have chosen to fine tune in KNN algorithm.\n",
    "Type your answer in the cell bellow as markdown format."
   ]
  },
  {
   "cell_type": "markdown",
   "metadata": {
    "id": "qaJt1GeEM1lA"
   },
   "source": [
    "### TO DO:\n",
    "Các tham số được sử dụng trong mô hình này như sau:\n",
    "1. n_neighbors = 11: số lượng k lân cận có nghĩa là label của một điểm dữ liệu mới được suy ra trực tiếp từ 11 điểm dữ liệu gần nhất trong training set\n",
    "2. p = 2 nghĩa là khoảng cách ở đây được tính là khoảng cách theo norm 2 hay còn gọi là khoảng cách  Euclid (là độ dài của đoạn thẳng nối hai điểm). Còn nếu p = 1 là khoảng cách manhattan - khoảng cách trong thành phố, là một dạng khoảng cách giữa hai điểm trong không gian Euclid với hệ tọa độ Descartes\n",
    "3. weights = 'distance', giá trị mặc định của weights là 'uniform', tương ứng với việc coi tất cả các điểm lân cận có giá trị như nhau, tuy nhiên với weights = distance thì những điểm gần hơn có trọng số cao hơn (tin tưởng hơn) vì thế có sự công bằng hơn so với uniform"
   ]
  },
  {
   "cell_type": "markdown",
   "metadata": {
    "id": "GsPgXPEpM1lB"
   },
   "source": [
    "### 12. Run the prediction on KNN models on training data and test data, then calculate the f1 score and Jaccard similarity score and save it to f1_scores dict and jaccard_scores dict.  \n",
    "**Requirement**: F1 score on test data must be higher than **0.6**, Jaccard similarity score must be higher than **0.75**."
   ]
  },
  {
   "cell_type": "code",
   "execution_count": 24,
   "metadata": {
    "executionInfo": {
     "elapsed": 10,
     "status": "aborted",
     "timestamp": 1641733800695,
     "user": {
      "displayName": "Nguy?n V?n Chi?n [Mentor]",
      "photoUrl": "https://lh3.googleusercontent.com/a/default-user=s64",
      "userId": "03888353383276620743"
     },
     "user_tz": -420
    },
    "id": "GxclqWk1M1lB",
    "scrolled": true
   },
   "outputs": [
    {
     "name": "stdout",
     "output_type": "stream",
     "text": [
      "training data: F1 score = 1.000 , accuracy score = 1.000\n",
      "test data: F1 score = 0.667 , accuracy score = 0.779\n"
     ]
    }
   ],
   "source": [
    "knn_model = grid_knn.best_estimator_\n",
    "\n",
    "# dự đoán trên training data\n",
    "yhat_train_knn = knn_model.predict(X_train)\n",
    "\n",
    "# tinh score tập train\n",
    "acc_knn_train = accuracy_score(y_train, yhat_train_knn )\n",
    "f1_knn_train = f1_score(y_train, yhat_train_knn )\n",
    "\n",
    "# dự đoán trên tập testing data\n",
    "yhat_test_knn = knn_model.predict(X_test)\n",
    "\n",
    "# tinh score tập test\n",
    "acc_knn_test = accuracy_score(y_test, yhat_test_knn )\n",
    "f1_knn_test = f1_score(y_test, yhat_test_knn )\n",
    "\n",
    "print('training data: F1 score = %.3f , accuracy score = %.3f' % (f1_knn_train,acc_knn_train))\n",
    "print('test data: F1 score = %.3f , accuracy score = %.3f' % (f1_knn_test,acc_knn_test))"
   ]
  },
  {
   "cell_type": "markdown",
   "metadata": {},
   "source": [
    "ta thấy trên tập test thì f1 > 0.6 và accuracy score > 0.75"
   ]
  },
  {
   "cell_type": "code",
   "execution_count": 25,
   "metadata": {},
   "outputs": [],
   "source": [
    "f1_scores['train']['KNN'] = f1_knn_train\n",
    "accuracy_scores['train']['KNN'] = acc_knn_train\n",
    "f1_scores['test']['KNN'] = f1_knn_test\n",
    "accuracy_scores['test']['KNN'] = acc_knn_test"
   ]
  },
  {
   "cell_type": "markdown",
   "metadata": {
    "id": "NXIl2GGLM1lE"
   },
   "source": [
    "# Decision Tree"
   ]
  },
  {
   "cell_type": "markdown",
   "metadata": {
    "id": "kW11u1k6M1lF"
   },
   "source": [
    "### 13, 14. Perform task 11 and 12 on the DT model.\n",
    "\n",
    "Hint: Using GridSearchCV in sklearn.model_selection.\n",
    "\n",
    "**Warning**: You should not use the test data for finding the best parameters.\n",
    "\n",
    "**Requirement**: F1 score on test data has to higher than **0.6**, the Jaccard similarity score must be higher than **0.73**."
   ]
  },
  {
   "cell_type": "code",
   "execution_count": 51,
   "metadata": {
    "executionInfo": {
     "elapsed": 10,
     "status": "aborted",
     "timestamp": 1641733800695,
     "user": {
      "displayName": "Nguy?n V?n Chi?n [Mentor]",
      "photoUrl": "https://lh3.googleusercontent.com/a/default-user=s64",
      "userId": "03888353383276620743"
     },
     "user_tz": -420
    },
    "id": "CnE8pvjvM1lG"
   },
   "outputs": [
    {
     "name": "stdout",
     "output_type": "stream",
     "text": [
      "0.7572437691590032\n",
      "{'criterion': 'entropy', 'max_depth': 7, 'max_features': 'log2', 'max_leaf_nodes': 16, 'min_samples_leaf': 13, 'min_samples_split': 4}\n"
     ]
    }
   ],
   "source": [
    "# tìm tham số task 13 tương đương task 11\n",
    "param_grid = {\n",
    "        'criterion':['gini','entropy'],\n",
    "        'max_depth':range(1,15),\n",
    "        'min_samples_split': [2,4],\n",
    "        'min_samples_leaf':[5, 10, 13],\n",
    "        'max_leaf_nodes':[8, 16, 32],\n",
    "        'max_features':['auto','sqrt','log2']\n",
    "             }\n",
    "grid_dt = GridSearchCV(estimator=DecisionTreeClassifier(),\n",
    "                   param_grid = param_grid)\n",
    "grid_dt.fit(X_train,y_train)\n",
    "\n",
    "# in ra tham số với sự chính xác tốt nhất\n",
    "print(grid_dt.best_score_)\n",
    "print(grid_dt.best_params_)"
   ]
  },
  {
   "cell_type": "code",
   "execution_count": 52,
   "metadata": {
    "executionInfo": {
     "elapsed": 10,
     "status": "aborted",
     "timestamp": 1641733800695,
     "user": {
      "displayName": "Nguy?n V?n Chi?n [Mentor]",
      "photoUrl": "https://lh3.googleusercontent.com/a/default-user=s64",
      "userId": "03888353383276620743"
     },
     "user_tz": -420
    },
    "id": "RPdHH2HiM1lI",
    "scrolled": true
   },
   "outputs": [
    {
     "name": "stdout",
     "output_type": "stream",
     "text": [
      "training data: F1 score = 0.689 , accuracy score = 0.792\n",
      "test data: F1 score = 0.625 , accuracy score = 0.766\n"
     ]
    }
   ],
   "source": [
    "# tính toán task 14 tương đương task 12\n",
    "\n",
    "dt_model = grid_dt.best_estimator_\n",
    "\n",
    "# dự đoán trên training data\n",
    "yhat_train_dt = dt_model.predict(X_train)\n",
    "\n",
    "# tinh score tập train\n",
    "acc_dt_train = accuracy_score(y_train, yhat_train_dt )\n",
    "f1_dt_train = f1_score(y_train, yhat_train_dt )\n",
    "\n",
    "# dự đoán trên tập testing data\n",
    "yhat_test_dt = dt_model.predict(X_test)\n",
    "\n",
    "# tinh score tập test\n",
    "acc_dt_test = accuracy_score(y_test, yhat_test_dt )\n",
    "f1_dt_test = f1_score(y_test, yhat_test_dt )\n",
    "\n",
    "print('training data: F1 score = %.3f , accuracy score = %.3f' % (f1_dt_train,acc_dt_train))\n",
    "print('test data: F1 score = %.3f , accuracy score = %.3f' % (f1_dt_test,acc_dt_test))"
   ]
  },
  {
   "cell_type": "markdown",
   "metadata": {},
   "source": [
    "ta thấy trên tập test thì f1 > 0.6 và accuracy score > 0.75"
   ]
  },
  {
   "cell_type": "code",
   "execution_count": 53,
   "metadata": {},
   "outputs": [],
   "source": [
    "f1_scores['train']['DT'] = f1_dt_train\n",
    "accuracy_scores['train']['DT'] = acc_dt_train\n",
    "f1_scores['test']['DT'] = f1_dt_test\n",
    "accuracy_scores['test']['DT'] = acc_dt_test"
   ]
  },
  {
   "cell_type": "markdown",
   "metadata": {
    "id": "0ZjQch2RM1lL"
   },
   "source": [
    "# Additional Question: \n",
    "### Interpret and explain the parameters you have chosen to fine tune in DT algorithm.\n",
    "Type your answer in the cell bellow as the markdown format."
   ]
  },
  {
   "cell_type": "markdown",
   "metadata": {
    "id": "g4aBT64WM1lL"
   },
   "source": [
    "### TO DO:\n"
   ]
  },
  {
   "cell_type": "markdown",
   "metadata": {
    "executionInfo": {
     "elapsed": 9,
     "status": "aborted",
     "timestamp": 1641733800695,
     "user": {
      "displayName": "Nguy?n V?n Chi?n [Mentor]",
      "photoUrl": "https://lh3.googleusercontent.com/a/default-user=s64",
      "userId": "03888353383276620743"
     },
     "user_tz": -420
    },
    "id": "5j2yBhnrM1lM"
   },
   "source": [
    "1. criterion Là hàm số để đo lường chất lượng phân chia ở mỗi node. Có hai lựa chọn là gini và entropy. khi criterion là entropy thì ta sử dụng chỉ số entropy  là một thước đo, miêu tả độ trong sạch của một thu thập dữ liệu tùy ý  . Trong khi đó biến criterion = gini: sử dụng chỉ số Gini Impurity để đo lường chất lượng 1 lần tách, là chỉ số thể hiện mức độ phân loại sai khi ta chọn ngẫu nhiên một phần tử từ tập data\n",
    "2. 'max_depth' = 7: Chiều sâu tối đa của decision tree, ở đây max_depth = 14 thì cây quyết định có tối đa là 7 tầng\n",
    "3. 'max_features' : Số lượng các biến được lựa chọn để tìm kiếm ra biến phân chia tốt nhất ở mỗi lượt phân chia, khi nó là auto thì max_features=sqrt(n_features), khi là log2 thì max_features=log2(n_features), nếu trống thì max_features=n_features\n",
    "4. max_leaf_nodes = 32: Số lượng các node lá tối đa của cây quyết định. Thường được thiết lập khi muốn kiểm soát hiện tượng quá khớp, ở đây là tối đa 32 node\n",
    "5. min_samples_leaf : Số lượng mẫu tối thiểu cần thiết để có ở một nút lá. Một điểm phân tách ở bất kỳ độ sâu nào sẽ chỉ được xem xét nếu nó để lại ít nhất các mẫu huấn luyện min_samples_leaf trong mỗi nhánh bên trái và bên phải. Điều này có thể có tác dụng làm mịn mô hình, đặc biệt là trong hồi quy\n",
    "6. min_samples_split: Kích thước mẫu tối thiểu được yêu cầu để tiếp tục phân chia đối với node quyết định. Được sử dụng để tránh kích thước của node lá quá nhỏ nhằm giảm thiểu hiện tượng quá khớp"
   ]
  },
  {
   "cell_type": "markdown",
   "metadata": {
    "id": "nd4a59C6M1lQ"
   },
   "source": [
    "# Support Vector Machine"
   ]
  },
  {
   "cell_type": "markdown",
   "metadata": {
    "id": "sn_wfdWpM1lR"
   },
   "source": [
    "### 15, 16. Perform task 11 and 12 on SVM models.\n",
    "\n",
    "Hint: Using GridSearchCV in sklearn.model_selection.\n",
    "\n",
    "**Warning**: You should not use the test data for finding the best parameters.\n",
    "\n",
    "**Requirement**: F1 score on test data has to higher than **0.62**, Jaccard similarity score must be higher than **0.75**."
   ]
  },
  {
   "cell_type": "code",
   "execution_count": 29,
   "metadata": {
    "executionInfo": {
     "elapsed": 9,
     "status": "aborted",
     "timestamp": 1641733800695,
     "user": {
      "displayName": "Nguy?n V?n Chi?n [Mentor]",
      "photoUrl": "https://lh3.googleusercontent.com/a/default-user=s64",
      "userId": "03888353383276620743"
     },
     "user_tz": -420
    },
    "id": "WUwo79EMM1lR",
    "scrolled": true
   },
   "outputs": [
    {
     "name": "stdout",
     "output_type": "stream",
     "text": [
      "0.767066506730641\n",
      "{'C': 0.5, 'degree': 1, 'gamma': 0.05, 'kernel': 'poly', 'probability': True}\n"
     ]
    }
   ],
   "source": [
    "# tìm tham số task 15 tương đương task 11\n",
    "param_grid = {\n",
    "        'C' : np.arange(0.1,1.01,0.1),\n",
    "        'kernel':['linear', 'poly' ,'rbf' ,'sigmoid'],\n",
    "        'gamma':[0.05,2.01,0.05],\n",
    "        'degree':[1,2,3,4],\n",
    "        'probability':[True,False]\n",
    "             }\n",
    "grid_svm = GridSearchCV(estimator=SVC(),\n",
    "                   param_grid = param_grid)\n",
    "grid_svm.fit(X_train,y_train)\n",
    "\n",
    "# in ra tham số với sự chính xác tốt nhất\n",
    "print(grid_svm.best_score_)\n",
    "print(grid_svm.best_params_)"
   ]
  },
  {
   "cell_type": "code",
   "execution_count": 30,
   "metadata": {
    "executionInfo": {
     "elapsed": 9,
     "status": "aborted",
     "timestamp": 1641733800695,
     "user": {
      "displayName": "Nguy?n V?n Chi?n [Mentor]",
      "photoUrl": "https://lh3.googleusercontent.com/a/default-user=s64",
      "userId": "03888353383276620743"
     },
     "user_tz": -420
    },
    "id": "JMxZtQa8M1lT"
   },
   "outputs": [
    {
     "name": "stdout",
     "output_type": "stream",
     "text": [
      "training data: F1 score = 0.606 , accuracy score = 0.767\n",
      "test data: F1 score = 0.632 , accuracy score = 0.773\n"
     ]
    }
   ],
   "source": [
    "# tính toán task 14 tương đương task 12\n",
    "\n",
    "svm_model = grid_svm.best_estimator_\n",
    "\n",
    "# dự đoán trên training data\n",
    "yhat_train_svm = svm_model.predict(X_train)\n",
    "\n",
    "# tinh score tập train\n",
    "acc_svm_train = accuracy_score(y_train, yhat_train_svm )\n",
    "f1_svm_train = f1_score(y_train, yhat_train_svm )\n",
    "\n",
    "# dự đoán trên tập testing data\n",
    "yhat_test_svm = svm_model.predict(X_test)\n",
    "\n",
    "# tinh score tập test\n",
    "acc_svm_test = accuracy_score(y_test, yhat_test_svm )\n",
    "f1_svm_test = f1_score(y_test, yhat_test_svm )\n",
    "\n",
    "print('training data: F1 score = %.3f , accuracy score = %.3f' % (f1_svm_train,acc_svm_train))\n",
    "print('test data: F1 score = %.3f , accuracy score = %.3f' % (f1_svm_test,acc_svm_test))"
   ]
  },
  {
   "cell_type": "code",
   "execution_count": 31,
   "metadata": {},
   "outputs": [],
   "source": [
    "f1_scores['train']['SVM'] = f1_svm_train\n",
    "accuracy_scores['train']['SVM'] = acc_svm_train\n",
    "f1_scores['test']['SVM'] = f1_svm_test\n",
    "accuracy_scores['test']['SVM'] = acc_svm_test"
   ]
  },
  {
   "cell_type": "markdown",
   "metadata": {
    "id": "03XgTdoPM1lW"
   },
   "source": [
    "# Additional Question: \n",
    "### Interpret and explain the parameters you have chosen to fine tune in SVM algorithm.\n",
    "Type your answer in the cell bellow as the markdown format."
   ]
  },
  {
   "cell_type": "markdown",
   "metadata": {
    "id": "wz0N8-CIM1lW"
   },
   "source": [
    "### TO DO:\n"
   ]
  },
  {
   "cell_type": "markdown",
   "metadata": {
    "executionInfo": {
     "elapsed": 9,
     "status": "aborted",
     "timestamp": 1641733800695,
     "user": {
      "displayName": "Nguy?n V?n Chi?n [Mentor]",
      "photoUrl": "https://lh3.googleusercontent.com/a/default-user=s64",
      "userId": "03888353383276620743"
     },
     "user_tz": -420
    },
    "id": "z0eWOaUaM1lX"
   },
   "source": [
    "\n",
    "1. kernel: Các dạng hàm kernel. Khi huấn luyện mô hình SVM chúng ta cần thử với nhiều kernels khác nhau để tìm ra kernel tốt nhất cho bộ dữ liệu huấn luyện. Các kernel phổ biến đó là: linear, poly, rbf, sigmoid. với linear là Kernel tuyến tính, hàm  tích vô hướng giữa hai véc tơ. Kernel RBF dựa trên hàm Gaussian RBF. Hàm biến đổi phi tuyến của kernel này là hàm ẩn và tương đương với một đa thức với bậc vô hạn. Kernel đa thức (poly): Tạo ra một đa thức bậc cao kết hợp giữa hai véc tơ. Kernel Sigmoid: Dựa trên kernel về đa thức, chúng ta đưa chuyển tiếp qua hàm tanh. Hàm tanh có thể biểu diễn theo hàm sigmoid nên đây được gọi là kernel Sigmoid.\n",
    "2. C -trọng số  của hàm chi phí, biểu thị mức độ phạt trong lề mềm (soft margin)\n",
    "3. gamma: Hệ số Kernel cho ‘rbf’, ‘poly’ và ‘sigmoid’. Một cách trực quan, Gamma sẽ biểu thị xem mức độ xa gần của các vector hỗ trợ (support vector). Gamma càng nhỏ các vector hỗ trợ (support vector) sẽ ở càng ở xa so với siêu phẳng (hyperplane). Khi để Gamma quá lớn SVM model sẽ càng cong theo dữ liệu không tuyến tính (non-linear), từ đó dễ dẫn đến việc quá vừa vặn (overfit). Tuy nhiên nếu để Gamma quá nhỏ, SVM model sẽ trở nên rất dễ dãi\n",
    "4. degree: Bậc d của đa thức, Bậc của hàm kernel đa thức (‘poly’). Bị bỏ qua bởi tất cả các kernel  khác.\n",
    "5. Có bật ước tính xác suất hay không. Điều này phải được làm trước khi fit, sẽ làm chậm phương pháp đó vì nó sử dụng nội bộ xác thực chéo 5 lần và dự đoán_proba có thể không nhất quán với dự đoán"
   ]
  },
  {
   "cell_type": "markdown",
   "metadata": {
    "id": "xRVAKHEkM1la"
   },
   "source": [
    "# Logistic Regression"
   ]
  },
  {
   "cell_type": "markdown",
   "metadata": {
    "id": "nTQkBQIXM1la"
   },
   "source": [
    "### 17, 18. Perform task 11 and 12 on Logistic Regression model.\n",
    "\n",
    "Hint: Using GridSearchCV in sklearn.model_selection.\n",
    "\n",
    "**Warning**: You should not use the test data for finding the best parameters.\n",
    "\n",
    "**Requirement**: F1 score on test data has to higher than **0.63**, Jaccard similarity score must be higher than **0.75**."
   ]
  },
  {
   "cell_type": "code",
   "execution_count": 32,
   "metadata": {
    "executionInfo": {
     "elapsed": 9,
     "status": "aborted",
     "timestamp": 1641733800695,
     "user": {
      "displayName": "Nguy?n V?n Chi?n [Mentor]",
      "photoUrl": "https://lh3.googleusercontent.com/a/default-user=s64",
      "userId": "03888353383276620743"
     },
     "user_tz": -420
    },
    "id": "cWFYayQLM1lb"
   },
   "outputs": [
    {
     "name": "stdout",
     "output_type": "stream",
     "text": [
      "0.7605357856857257\n",
      "{'C': 0.2, 'fit_intercept': True, 'max_iter': 50, 'solver': 'newton-cg', 'tol': 0.001}\n"
     ]
    }
   ],
   "source": [
    "# tìm tham số task 15 tương đương task 11\n",
    "param_grid = {\n",
    "        'solver': ['newton-cg', 'lbfgs', 'liblinear', 'sag', 'saga'],\n",
    "        'C': np.arange(0.1,1.01,0.1),\n",
    "        'max_iter' : [50,100,200,300,400],\n",
    "        'tol' : [1e-3,1e-4,1e-5],\n",
    "        'fit_intercept' : [True, False]\n",
    "             }\n",
    "grid_lr = GridSearchCV(estimator=LogisticRegression(),\n",
    "                   param_grid = param_grid)\n",
    "grid_lr.fit(X_train,y_train)\n",
    "\n",
    "# in ra tham số với sự chính xác tốt nhất\n",
    "print(grid_lr.best_score_)\n",
    "print(grid_lr.best_params_)"
   ]
  },
  {
   "cell_type": "code",
   "execution_count": 33,
   "metadata": {
    "executionInfo": {
     "elapsed": 10,
     "status": "aborted",
     "timestamp": 1641733800696,
     "user": {
      "displayName": "Nguy?n V?n Chi?n [Mentor]",
      "photoUrl": "https://lh3.googleusercontent.com/a/default-user=s64",
      "userId": "03888353383276620743"
     },
     "user_tz": -420
    },
    "id": "7szXdAHTM1lc"
   },
   "outputs": [
    {
     "name": "stdout",
     "output_type": "stream",
     "text": [
      "training data: F1 score = 0.619 , accuracy score = 0.765\n",
      "test data: F1 score = 0.640 , accuracy score = 0.766\n"
     ]
    }
   ],
   "source": [
    "# tính toán task 14 tương đương task 12\n",
    "\n",
    "lr_model = grid_lr.best_estimator_\n",
    "\n",
    "# dự đoán trên training data\n",
    "yhat_train_lr = lr_model.predict(X_train)\n",
    "\n",
    "# tinh score tập train\n",
    "acc_lr_train = accuracy_score(y_train, yhat_train_lr )\n",
    "f1_lr_train = f1_score(y_train, yhat_train_lr )\n",
    "\n",
    "# dự đoán trên tập testing data\n",
    "yhat_test_lr = lr_model.predict(X_test)\n",
    "\n",
    "# tinh score tập test\n",
    "acc_lr_test = accuracy_score(y_test, yhat_test_lr )\n",
    "f1_lr_test = f1_score(y_test, yhat_test_lr )\n",
    "\n",
    "print('training data: F1 score = %.3f , accuracy score = %.3f' % (f1_lr_train,acc_lr_train))\n",
    "print('test data: F1 score = %.3f , accuracy score = %.3f' % (f1_lr_test,acc_lr_test))"
   ]
  },
  {
   "cell_type": "code",
   "execution_count": 34,
   "metadata": {},
   "outputs": [],
   "source": [
    "f1_scores['train']['LR'] = f1_lr_train\n",
    "accuracy_scores['train']['LR'] = acc_lr_train\n",
    "f1_scores['test']['LR'] = f1_lr_test\n",
    "accuracy_scores['test']['LR'] = acc_lr_test"
   ]
  },
  {
   "cell_type": "markdown",
   "metadata": {
    "id": "pfPytCDYM1le"
   },
   "source": [
    "# Additional Question: \n",
    "### Interpret and explain the parameters you have chosen to fine tune in LR algorithm.\n",
    "Type your answer in the cell bellow as the markdown format."
   ]
  },
  {
   "cell_type": "markdown",
   "metadata": {
    "id": "RmPs5O5RM1lf"
   },
   "source": [
    "### TO DO:\n"
   ]
  },
  {
   "cell_type": "markdown",
   "metadata": {
    "executionInfo": {
     "elapsed": 355,
     "status": "aborted",
     "timestamp": 1641733801041,
     "user": {
      "displayName": "Nguy?n V?n Chi?n [Mentor]",
      "photoUrl": "https://lh3.googleusercontent.com/a/default-user=s64",
      "userId": "03888353383276620743"
     },
     "user_tz": -420
    },
    "id": "c4zNUUR_M1lg"
   },
   "source": [
    "1. Solver Thuật toán sử dụng trong bài toán tối ưu hóa.với solver = Phương pháp Newton trong logistics sử dụng đạo hàm bậc 2 đem tại tốc độ tốt hơn. Đối với các tập dữ liệu nhỏ, ‘liblinear’ là một lựa chọn tốt, trong khi ‘sag’ và ‘saga’ nhanh hơn cho các tập lớn;Đối với các bài toán đa thức, chỉ có ‘newton-cg’, ‘sag’, ‘saga’ và ‘lbfgs’ xử lý mất đa thức;\n",
    "2. C : Inverse regularization parameter -  C = 1/λ. trong đó hằng số λ nhân với tổng các giá trị tham số bình phương để giảm thiểu lỗi có nhiều tham số\n",
    "3. fit_intercept : True or False Chỉ định xem một hằng số có nên được thêm vào hàm quyết định hay không.\n",
    "4. max_iter :điều kiện dừng, là đạt đến 1 số lần lặp = số mình truyền vào thì dừng, là số lần lặp tối đa cho phép\n",
    "5. tol : độ chính xác của model khi đạt được sẽ không lặp nữa"
   ]
  },
  {
   "cell_type": "markdown",
   "metadata": {
    "id": "xhThcwLYM1li"
   },
   "source": [
    "# Advanced part (15%  of the total score)"
   ]
  },
  {
   "cell_type": "markdown",
   "metadata": {
    "id": "eRc5JoN7M1lo"
   },
   "source": [
    "# Ensemble model"
   ]
  },
  {
   "cell_type": "markdown",
   "metadata": {
    "id": "8-eteyNxM1lo"
   },
   "source": [
    "### 19. Perform soft voting on the 4 above models (using the same setting for the 4 models as in previous steps.) \n",
    "**Hint**: Using VotingClassifier in sklearn.ensemble."
   ]
  },
  {
   "cell_type": "code",
   "execution_count": 54,
   "metadata": {
    "executionInfo": {
     "elapsed": 355,
     "status": "aborted",
     "timestamp": 1641733801041,
     "user": {
      "displayName": "Nguy?n V?n Chi?n [Mentor]",
      "photoUrl": "https://lh3.googleusercontent.com/a/default-user=s64",
      "userId": "03888353383276620743"
     },
     "user_tz": -420
    },
    "id": "J-EjCxe6M1ls"
   },
   "outputs": [
    {
     "data": {
      "text/plain": [
       "VotingClassifier(estimators=[('KNN',\n",
       "                              KNeighborsClassifier(n_neighbors=11,\n",
       "                                                   weights='distance')),\n",
       "                             ('DT',\n",
       "                              DecisionTreeClassifier(criterion='entropy',\n",
       "                                                     max_depth=7,\n",
       "                                                     max_features='log2',\n",
       "                                                     max_leaf_nodes=16,\n",
       "                                                     min_samples_leaf=13,\n",
       "                                                     min_samples_split=4)),\n",
       "                             ('SVM',\n",
       "                              SVC(C=0.5, degree=1, gamma=0.05, kernel='poly',\n",
       "                                  probability=True)),\n",
       "                             ('LR',\n",
       "                              LogisticRegression(C=0.2, max_iter=50,\n",
       "                                                 solver='newton-cg',\n",
       "                                                 tol=0.001))],\n",
       "                 voting='soft')"
      ]
     },
     "execution_count": 54,
     "metadata": {},
     "output_type": "execute_result"
    }
   ],
   "source": [
    "#TO DO:\n",
    "#create a list of our models\n",
    "estimators = [('KNN',knn_model),\n",
    "              ('DT',dt_model),\n",
    "              ('SVM',svm_model),\n",
    "               ('LR',lr_model)]\n",
    "#create our voting classifier, inputting our models\n",
    "ensoft_model = VotingClassifier(estimators = estimators,\n",
    "                       voting='soft')\n",
    "ensoft_model.fit(X_train,y_train)"
   ]
  },
  {
   "cell_type": "markdown",
   "metadata": {
    "id": "vZu5N_i3M1lu"
   },
   "source": [
    "### 20. Run the prediction on the ensembling model using soft voting on training data and test data, then calculate the f1 score and Jaccard similarity score and save it to f1_scores dict and jaccard_scores dict.¶\n",
    "\n",
    "**Requirement**: F1 score on test data must be higher than **0.66**, Jaccard similarity score must be higher than **0.78**."
   ]
  },
  {
   "cell_type": "code",
   "execution_count": 55,
   "metadata": {
    "executionInfo": {
     "elapsed": 354,
     "status": "aborted",
     "timestamp": 1641733801041,
     "user": {
      "displayName": "Nguy?n V?n Chi?n [Mentor]",
      "photoUrl": "https://lh3.googleusercontent.com/a/default-user=s64",
      "userId": "03888353383276620743"
     },
     "user_tz": -420
    },
    "id": "SeuL7a0rM1lu"
   },
   "outputs": [
    {
     "name": "stdout",
     "output_type": "stream",
     "text": [
      "training data: F1 score = 0.868 , accuracy score = 0.912\n",
      "test data: F1 score = 0.694 , accuracy score = 0.805\n"
     ]
    }
   ],
   "source": [
    "# dự đoán trên training data\n",
    "yhat_train_ensoft = ensoft_model.predict(X_train)\n",
    "\n",
    "# tinh score tập train\n",
    "acc_ensoft_train = accuracy_score(y_train, yhat_train_ensoft )\n",
    "f1_ensoft_train = f1_score(y_train, yhat_train_ensoft )\n",
    "\n",
    "# dự đoán trên tập testing data\n",
    "yhat_test_ensoft = ensoft_model.predict(X_test)\n",
    "\n",
    "# tinh score tập test\n",
    "acc_ensoft_test = accuracy_score(y_test, yhat_test_ensoft )\n",
    "f1_ensoft_test = f1_score(y_test, yhat_test_ensoft )\n",
    "\n",
    "print('training data: F1 score = %.3f , accuracy score = %.3f' % (f1_ensoft_train,acc_ensoft_train))\n",
    "print('test data: F1 score = %.3f , accuracy score = %.3f' % (f1_ensoft_test,acc_ensoft_test))"
   ]
  },
  {
   "cell_type": "code",
   "execution_count": 56,
   "metadata": {},
   "outputs": [],
   "source": [
    "f1_scores['train']['EN_SOFT'] = f1_ensoft_train\n",
    "accuracy_scores['train']['EN_SOFT'] = acc_ensoft_train\n",
    "f1_scores['test']['EN_SOFT'] = f1_ensoft_test\n",
    "accuracy_scores['test']['EN_SOFT'] = acc_ensoft_test"
   ]
  },
  {
   "cell_type": "markdown",
   "metadata": {
    "id": "d9vVirtTM1lw"
   },
   "source": [
    "### 21, 22. Perform task 19 and 20 using hard voting.\n",
    "Hint: Using GridSearchCV in sklearn.model_selection.\n",
    "\n",
    "**Warning**: You should not use the test data for finding the best parameters.\n",
    "\n",
    "**Requirement**: F1 score on test data must be higher than **0.57**, Jaccard similarity score must be higher than **0.73**."
   ]
  },
  {
   "cell_type": "code",
   "execution_count": 57,
   "metadata": {
    "executionInfo": {
     "elapsed": 355,
     "status": "aborted",
     "timestamp": 1641733801042,
     "user": {
      "displayName": "Nguy?n V?n Chi?n [Mentor]",
      "photoUrl": "https://lh3.googleusercontent.com/a/default-user=s64",
      "userId": "03888353383276620743"
     },
     "user_tz": -420
    },
    "id": "0n-qRxd5M1lx"
   },
   "outputs": [
    {
     "data": {
      "text/plain": [
       "VotingClassifier(estimators=[('KNN',\n",
       "                              KNeighborsClassifier(n_neighbors=11,\n",
       "                                                   weights='distance')),\n",
       "                             ('DT',\n",
       "                              DecisionTreeClassifier(criterion='entropy',\n",
       "                                                     max_depth=7,\n",
       "                                                     max_features='log2',\n",
       "                                                     max_leaf_nodes=16,\n",
       "                                                     min_samples_leaf=13,\n",
       "                                                     min_samples_split=4)),\n",
       "                             ('LR',\n",
       "                              LogisticRegression(C=0.2, max_iter=50,\n",
       "                                                 solver='newton-cg',\n",
       "                                                 tol=0.001))])"
      ]
     },
     "execution_count": 57,
     "metadata": {},
     "output_type": "execute_result"
    }
   ],
   "source": [
    "# Khớp thành công một mô hình hard voting với 3 thuật toán chính (không có SVM). (3%)\n",
    "estimators = [('KNN',knn_model),\n",
    "              ('DT',dt_model),\n",
    "               ('LR',lr_model)]\n",
    "#create our voting classifier, inputting our models\n",
    "enhard_model = VotingClassifier(estimators = estimators,\n",
    "                       voting='hard')\n",
    "enhard_model.fit(X_train,y_train)"
   ]
  },
  {
   "cell_type": "code",
   "execution_count": 58,
   "metadata": {},
   "outputs": [
    {
     "name": "stdout",
     "output_type": "stream",
     "text": [
      "training data: F1 score = 0.822 , accuracy score = 0.883\n",
      "test data: F1 score = 0.660 , accuracy score = 0.773\n"
     ]
    }
   ],
   "source": [
    "# dự đoán trên training data\n",
    "yhat_train_enhard = enhard_model.predict(X_train)\n",
    "\n",
    "# tinh score tập train\n",
    "acc_enhard_train = accuracy_score(y_train, yhat_train_enhard )\n",
    "f1_enhard_train = f1_score(y_train, yhat_train_enhard )\n",
    "\n",
    "# dự đoán trên tập testing data\n",
    "yhat_test_enhard = enhard_model.predict(X_test)\n",
    "\n",
    "# tinh score tập test\n",
    "acc_enhard_test = accuracy_score(y_test, yhat_test_enhard )\n",
    "f1_enhard_test = f1_score(y_test, yhat_test_enhard )\n",
    "\n",
    "print('training data: F1 score = %.3f , accuracy score = %.3f' % (f1_enhard_train,acc_enhard_train))\n",
    "print('test data: F1 score = %.3f , accuracy score = %.3f' % (f1_enhard_test,acc_enhard_test))"
   ]
  },
  {
   "cell_type": "code",
   "execution_count": 59,
   "metadata": {
    "executionInfo": {
     "elapsed": 355,
     "status": "aborted",
     "timestamp": 1641733801042,
     "user": {
      "displayName": "Nguy?n V?n Chi?n [Mentor]",
      "photoUrl": "https://lh3.googleusercontent.com/a/default-user=s64",
      "userId": "03888353383276620743"
     },
     "user_tz": -420
    },
    "id": "zxvqWZBcM1lz"
   },
   "outputs": [],
   "source": [
    "f1_scores['train']['EN_HARD'] = f1_enhard_train\n",
    "accuracy_scores['train']['EN_HARD'] = acc_enhard_train\n",
    "f1_scores['test']['EN_HARD'] = f1_enhard_test\n",
    "accuracy_scores['test']['EN_HARD'] = acc_enhard_test"
   ]
  },
  {
   "cell_type": "markdown",
   "metadata": {
    "id": "RmteU8YeM1l3"
   },
   "source": [
    "# Report\n",
    "You should be able to report the accuracy of the built model using different evaluation metrics:"
   ]
  },
  {
   "cell_type": "markdown",
   "metadata": {
    "id": "c3q0IThKM1l3"
   },
   "source": [
    "| Algorithm          | Jaccard-training | F1-score-training |Jaccard-testing | F1-score-testing |\n",
    "|--------------------|------------------|-------------------|----------------|------------------|\n",
    "| KNN                | ?                | ?                 |  ?             |  ?               |\n",
    "| Decision Tree      | ?                | ?                 |  ?             |  ?               |\n",
    "| SVM                | ?                | ?                 |  ?             |  ?               |\n",
    "| Logistic Regression| ?                | ?                 |  ?             |  ?               |\n",
    "| Hard Voting        | ?                | ?                 |  ?             |  ?               |\n",
    "| Soft Voting        | ?                | ?                 |  ?             |  ?               |\n"
   ]
  },
  {
   "cell_type": "markdown",
   "metadata": {
    "id": "PpqjW-eOM1l3"
   },
   "source": [
    "### 23. Create a data frame that describes the result as exactly as above."
   ]
  },
  {
   "cell_type": "code",
   "execution_count": 60,
   "metadata": {
    "executionInfo": {
     "elapsed": 355,
     "status": "aborted",
     "timestamp": 1641733801042,
     "user": {
      "displayName": "Nguy?n V?n Chi?n [Mentor]",
      "photoUrl": "https://lh3.googleusercontent.com/a/default-user=s64",
      "userId": "03888353383276620743"
     },
     "user_tz": -420
    },
    "id": "pI3_EsgtM1l4"
   },
   "outputs": [
    {
     "data": {
      "text/html": [
       "<div>\n",
       "<style scoped>\n",
       "    .dataframe tbody tr th:only-of-type {\n",
       "        vertical-align: middle;\n",
       "    }\n",
       "\n",
       "    .dataframe tbody tr th {\n",
       "        vertical-align: top;\n",
       "    }\n",
       "\n",
       "    .dataframe thead th {\n",
       "        text-align: right;\n",
       "    }\n",
       "</style>\n",
       "<table border=\"1\" class=\"dataframe\">\n",
       "  <thead>\n",
       "    <tr style=\"text-align: right;\">\n",
       "      <th></th>\n",
       "      <th>Algorithm</th>\n",
       "      <th>Accuracy-training</th>\n",
       "      <th>F1-score-training</th>\n",
       "      <th>Accuracy-testing</th>\n",
       "      <th>F1-score-testing</th>\n",
       "    </tr>\n",
       "  </thead>\n",
       "  <tbody>\n",
       "    <tr>\n",
       "      <th>0</th>\n",
       "      <td>KNN</td>\n",
       "      <td>1.000000</td>\n",
       "      <td>1.000000</td>\n",
       "      <td>0.779221</td>\n",
       "      <td>0.666667</td>\n",
       "    </tr>\n",
       "    <tr>\n",
       "      <th>1</th>\n",
       "      <td>Decision Tree</td>\n",
       "      <td>0.791531</td>\n",
       "      <td>0.689320</td>\n",
       "      <td>0.766234</td>\n",
       "      <td>0.625000</td>\n",
       "    </tr>\n",
       "    <tr>\n",
       "      <th>2</th>\n",
       "      <td>SVM</td>\n",
       "      <td>0.767101</td>\n",
       "      <td>0.606061</td>\n",
       "      <td>0.772727</td>\n",
       "      <td>0.631579</td>\n",
       "    </tr>\n",
       "    <tr>\n",
       "      <th>3</th>\n",
       "      <td>Logistic Regression</td>\n",
       "      <td>0.765472</td>\n",
       "      <td>0.619048</td>\n",
       "      <td>0.766234</td>\n",
       "      <td>0.640000</td>\n",
       "    </tr>\n",
       "    <tr>\n",
       "      <th>4</th>\n",
       "      <td>Hard Voting</td>\n",
       "      <td>0.882736</td>\n",
       "      <td>0.821782</td>\n",
       "      <td>0.772727</td>\n",
       "      <td>0.660194</td>\n",
       "    </tr>\n",
       "    <tr>\n",
       "      <th>5</th>\n",
       "      <td>Soft Voting</td>\n",
       "      <td>0.912052</td>\n",
       "      <td>0.867647</td>\n",
       "      <td>0.805195</td>\n",
       "      <td>0.693878</td>\n",
       "    </tr>\n",
       "  </tbody>\n",
       "</table>\n",
       "</div>"
      ],
      "text/plain": [
       "             Algorithm  Accuracy-training  F1-score-training  \\\n",
       "0                  KNN           1.000000           1.000000   \n",
       "1        Decision Tree           0.791531           0.689320   \n",
       "2                  SVM           0.767101           0.606061   \n",
       "3  Logistic Regression           0.765472           0.619048   \n",
       "4          Hard Voting           0.882736           0.821782   \n",
       "5          Soft Voting           0.912052           0.867647   \n",
       "\n",
       "   Accuracy-testing  F1-score-testing  \n",
       "0          0.779221          0.666667  \n",
       "1          0.766234          0.625000  \n",
       "2          0.772727          0.631579  \n",
       "3          0.766234          0.640000  \n",
       "4          0.772727          0.660194  \n",
       "5          0.805195          0.693878  "
      ]
     },
     "execution_count": 60,
     "metadata": {},
     "output_type": "execute_result"
    }
   ],
   "source": [
    "# tao dataframe tu 2 dictionary\n",
    "acc_df = pd.DataFrame(accuracy_scores).rename(columns={'train':'Accuracy-training',\n",
    "                                     'test':'Accuracy-testing'})\n",
    "f1_df = pd.DataFrame(f1_scores).rename(columns={'train':'F1-score-training',\n",
    "                                     'test':'F1-score-testing'})\n",
    "# concat 2 dictionary nay\n",
    "report_df = pd.concat([acc_df,f1_df],axis=1,)\n",
    "report_df['Algorithm'] = ['KNN','Decision Tree','SVM','Logistic Regression','Hard Voting','Soft Voting']\n",
    "report_df.reset_index(drop = True,inplace = True)\n",
    "report_df.reindex(columns=['Algorithm','Accuracy-training','F1-score-training','Accuracy-testing','F1-score-testing'])"
   ]
  },
  {
   "cell_type": "markdown",
   "metadata": {
    "id": "TYifTRP7M1l5"
   },
   "source": [
    "# Additional Question: \n",
    "### Are ensemble methods always better than a single model? If not, explain why?\n",
    "Type your answer in the cell bellow as the markdown format.\n",
    "\t"
   ]
  },
  {
   "cell_type": "markdown",
   "metadata": {
    "id": "450BrJ44M1l6"
   },
   "source": [
    "### TO DO:\n",
    "Từ bảng report tổng hợp hợp ta thấy đối với Ensemble model sử dụng soft voting, trong tập train, thấy có tăng lên của cả accuracy score và f1 score so với các single model ngoại trừ KNN model, còn đối với tập test thì các score này tăng lên so với tất cả các single model. Tuy nhiên với Ensemble model sử dụng hard voting thì scores chỉ lớn hơn score của Logistic Regression\t, và không lớn hơn hơn các mô hình còn lại\n",
    "\n",
    "ta thấy được không phải lúc nào thì ensemble methods cũng trả về dự đoán tốt hơn so với single model. Nguyên nhân là thứ nhất có nhiều phương pháp ensemble khác nhau, mỗi cái có một ưu điểm và nhược điểm riêng. Ví dụ: nếu bạn có các mô hình có phương sai cao (chúng quá khớp với dữ liệu của bạn), thì bạn có khả năng được lợi khi sử dụng bagging. Nếu mô hình bias cao thì nên kết hợp chúng với Boosting. Nếu bạn sử dụng sai phương pháp kết hợp cho cài đặt của mình, bạn sẽ không làm tốt hơn. Ví dụ, sử dụng Bagging với một biased model sẽ không hữu ích"
   ]
  },
  {
   "cell_type": "code",
   "execution_count": 12,
   "metadata": {
    "scrolled": true
   },
   "outputs": [],
   "source": [
    "# làm thêm : nếu không normalize thì với model decision tree chạy có thay đổi giá trị hay không\n",
    "X = df.iloc[:,:-1]\n",
    "y = df.iloc[:,-1]\n",
    "X_train, X_test, y_train, y_test = train_test_split(X,y,test_size = 0.2,\n",
    "                                                   random_state = 7)"
   ]
  },
  {
   "cell_type": "code",
   "execution_count": 21,
   "metadata": {},
   "outputs": [
    {
     "name": "stdout",
     "output_type": "stream",
     "text": [
      "DecisionTreeClassifier(criterion='entropy', max_depth=15, max_leaf_nodes=20)\n",
      "accuracy score 0.7727272727272727\n",
      "f1 score 0.7008547008547009\n",
      "jaccard score 0.6344529364440868\n"
     ]
    }
   ],
   "source": [
    "grid = GridSearchCV(estimator = DecisionTreeClassifier(),\n",
    "             param_grid= {'max_depth':[3,5,10,15,20],\n",
    "                          'criterion':['gini','entropy'],\n",
    "                         'max_leaf_nodes' : [5,10,15,20,25,30,35,40],\n",
    "                          'min_samples_split' : [2,4,6]\n",
    "             },\n",
    "             cv = 10)\n",
    "grid.fit(X_train,y_train)\n",
    "\n",
    "print(grid.best_estimator_)\n",
    "from sklearn.metrics import jaccard_score\n",
    "dt_model2 = grid.best_estimator_\n",
    "\n",
    "yhat = dt_model2.predict(X_test)\n",
    "\n",
    "print('accuracy score',accuracy_score(y_test,yhat))\n",
    "print('f1 score',f1_score(y_test,yhat))\n",
    "print('jaccard score',jaccard_score(y_test,yhat, average = 'weighted'))"
   ]
  },
  {
   "cell_type": "markdown",
   "metadata": {},
   "source": [
    "Ta thấy grid trả về giá trị max_depth = 10 và max_leaf_nodes = 20, entropy gần như tất cả các lần > cho thấy khi dùng gridsearchcv cho decision tree không nên làm normalization"
   ]
  }
 ],
 "metadata": {
  "colab": {
   "collapsed_sections": [
    "2yXSkeUjM1kr",
    "qaJt1GeEM1lA",
    "450BrJ44M1l6"
   ],
   "name": "DSP303x_01_EN_2_Starter_Code.ipynb",
   "provenance": []
  },
  "kernelspec": {
   "display_name": "Python 3",
   "language": "python",
   "name": "python3"
  },
  "language_info": {
   "codemirror_mode": {
    "name": "ipython",
    "version": 3
   },
   "file_extension": ".py",
   "mimetype": "text/x-python",
   "name": "python",
   "nbconvert_exporter": "python",
   "pygments_lexer": "ipython3",
   "version": "3.8.8"
  }
 },
 "nbformat": 4,
 "nbformat_minor": 1
}
